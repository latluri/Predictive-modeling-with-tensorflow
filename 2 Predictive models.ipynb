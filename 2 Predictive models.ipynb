{
 "cells": [
  {
   "cell_type": "markdown",
   "metadata": {},
   "source": [
    "# Multiclass logistic regression / ordinal regression"
   ]
  },
  {
   "cell_type": "code",
   "execution_count": 10,
   "metadata": {
    "collapsed": true
   },
   "outputs": [],
   "source": [
    "import numpy as np\n",
    "import mord as m\n",
    "import pandas as pd\n",
    "import numpy as np\n",
    "from sklearn.model_selection import train_test_split\n",
    "from sklearn.metrics import accuracy_score\n",
    "from sklearn.metrics import classification_report\n",
    "from sklearn.metrics import confusion_matrix\n",
    "\n",
    "#Defining the model\n",
    "c = m.LogisticAT() #Default parameters: alpha=1.0, verbose=0, maxiter=10000\n"
   ]
  },
  {
   "cell_type": "code",
   "execution_count": 11,
   "metadata": {
    "collapsed": true
   },
   "outputs": [],
   "source": [
    "#Code to read the data\n",
    "data = pd.read_csv('C:\\\\Users\\\\Pavan\\\\Desktop\\\\rang\\\\movie_rating_prediction-master\\\\movie_metadata.csv', sep=',',header=0,encoding='latin-1')\n",
    "data[\"genres_count\"]=data.genres.str.split('|', 0).apply(lambda x: len(x))\n",
    "data[\"plotkeyword_1\"],data[\"plotkeyword_others\"]=data.plot_keywords.str.split('|', 1).str\n",
    "data[\"title_num_words\"]=data.movie_title.str.split(' ', 0).apply(lambda x: len(x))\n",
    "data[\"title_first_alpha_numeric\"]=pd.DataFrame(data.movie_title.str.split(' ',1).tolist(),columns = ['first','other'])[\"first\"].str[0]\n",
    "#data.loc[:,[\"movie_title\",\"genres\",\"plot_keywords\",\"genres_count\",\"plotkeywords_count\",\"plotkeyword_1\",\"movie_title_word_length\",\"movie_first_alpha_numeric\"]]\n",
    "data[\"imdb_score2\"]=pd.cut(data['imdb_score'],[0,5.8,6.6,7.2,10],labels=[0,1,2,3]).astype(\"object\")\n",
    "data=data.dropna(axis=0, how='any')\n",
    "data=data.drop(\"imdb_score\",1)\n",
    "data[\"imdb_score2\"]=data.imdb_score2.astype(\"int64\")"
   ]
  },
  {
   "cell_type": "code",
   "execution_count": 12,
   "metadata": {
    "collapsed": true
   },
   "outputs": [],
   "source": [
    "data[\"num_critic_for_reviews\"]=pd.cut(data[\"num_critic_for_reviews\"],[0, 50.0, 110.0, 195.0, 813.0],labels=[1, 2, 3, 4],include_lowest=True)\n",
    "data[\"duration\"]=pd.cut(data[\"duration\"],[0, 93.0, 103.0, 118.0, 511.0],labels=[1, 2, 3, 4],include_lowest=True)\n",
    "data[\"director_facebook_likes\"]=pd.cut(data[\"director_facebook_likes\"],[0, 7.0, 49.0, 194.5, 23000.0],labels=[1, 2, 3, 4],include_lowest=True)\n",
    "data[\"actor_3_facebook_likes\"]=pd.cut(data[\"actor_3_facebook_likes\"],[0, 133.0, 371.5, 636.0, 23000.0],labels=[1, 2, 3, 4],include_lowest=True)\n",
    "data[\"actor_1_facebook_likes\"]=pd.cut(data[\"actor_1_facebook_likes\"],[0, 614.0, 988.0, 11000.0, 640000.0],labels=[1, 2, 3, 4],include_lowest=True)\n",
    "data[\"gross\"]=pd.cut(data[\"gross\"],[0, 5340987.5, 25517500.0, 62309437.5, 760505847.0],labels=[1, 2, 3, 4],include_lowest=True)\n",
    "data[\"num_voted_users\"]=pd.cut(data[\"num_voted_users\"],[0, 8593.5, 34359.0, 96309.0, 1689764.0],labels=[1, 2, 3, 4],include_lowest=True)\n",
    "data[\"cast_total_facebook_likes\"]=pd.cut(data[\"cast_total_facebook_likes\"],[0, 1411.0, 3090.0, 13756.5, 656730.0],labels=[1, 2, 3, 4],include_lowest=True)\n",
    "data[\"facenumber_in_poster\"]=pd.cut(data[\"facenumber_in_poster\"],[0, 1.0, 2.0, 43.0],labels=[1, 2, 3],include_lowest=True)\n",
    "data[\"num_user_for_reviews\"]=pd.cut(data[\"num_user_for_reviews\"],[0, 65.0, 156.0, 326.0, 5060.0],labels=[1, 2, 3, 4],include_lowest=True)\n",
    "data[\"budget\"]=pd.cut(data[\"budget\"],[0, 6000000.0, 20000000.0, 45000000.0, 12215500000.0],labels=[1, 2, 3, 4],include_lowest=True)\n",
    "data[\"title_year\"]=pd.cut(data[\"title_year\"],[0, 1999.0, 2005.0, 2011.0, 2016.0],labels=[1, 2, 3, 4],include_lowest=True)\n",
    "data[\"actor_2_facebook_likes\"]=pd.cut(data[\"actor_2_facebook_likes\"],[0, 281.0, 595.0, 918.0, 137000.0],labels=[1, 2, 3, 4],include_lowest=True)\n",
    "data[\"aspect_ratio\"]=pd.cut(data[\"aspect_ratio\"],[0, 1.85, 2.35, 16.0],labels=[1, 2, 3],include_lowest=True)\n",
    "data[\"movie_facebook_likes\"]=pd.cut(data[\"movie_facebook_likes\"],[0, 166.0, 3000.0, 349000.0],labels=[1, 2, 3],include_lowest=True)\n",
    "data[\"genres_count\"]=pd.cut(data[\"genres_count\"],[0, 2.0, 3.0, 4.0, 8.0],labels=[1, 2, 3, 4],include_lowest=True)\n",
    "data[\"title_num_words\"]=pd.cut(data[\"title_num_words\"],[0, 2.0, 4.0, 20.0],labels=[1, 2, 3],include_lowest=True)"
   ]
  },
  {
   "cell_type": "code",
   "execution_count": 13,
   "metadata": {
    "collapsed": true
   },
   "outputs": [],
   "source": [
    "for col in data.columns:\n",
    "    if(data[col].dtypes==\"object\"):\n",
    "             data[col]=pd.factorize(data[col],na_sentinel=0)[0]"
   ]
  },
  {
   "cell_type": "code",
   "execution_count": 14,
   "metadata": {
    "collapsed": true
   },
   "outputs": [],
   "source": [
    "data_ordinal=data.copy()\n",
    "X_train, X_test = train_test_split(data, test_size=0.3, random_state=223)\n",
    "Y_train=X_train.pop(\"imdb_score2\")\n",
    "Y_test=X_test.pop(\"imdb_score2\")"
   ]
  },
  {
   "cell_type": "code",
   "execution_count": 15,
   "metadata": {
    "collapsed": true
   },
   "outputs": [],
   "source": [
    "c.fit(X_train,Y_train)\n",
    "y_pred = c.predict(X_test)"
   ]
  },
  {
   "cell_type": "code",
   "execution_count": 16,
   "metadata": {},
   "outputs": [
    {
     "name": "stdout",
     "output_type": "stream",
     "text": [
      "Confusion Matrix: \n",
      "[[116 110  44   2]\n",
      " [ 56 131 131   9]\n",
      " [ 26  61 155  34]\n",
      " [  7  21 127  95]]\n",
      "('Accuracy : ', 44.177777777777777)\n",
      "             precision    recall  f1-score   support\n",
      "\n",
      "          0       0.57      0.43      0.49       272\n",
      "          1       0.41      0.40      0.40       327\n",
      "          2       0.34      0.56      0.42       276\n",
      "          3       0.68      0.38      0.49       250\n",
      "\n",
      "avg / total       0.49      0.44      0.45      1125\n",
      "\n"
     ]
    }
   ],
   "source": [
    "print(\"Confusion Matrix: \")\n",
    "print (confusion_matrix(Y_test, y_pred))\n",
    "    \n",
    "print (\"Accuracy : \",accuracy_score(Y_test,y_pred)*100)\n",
    " \n",
    "print classification_report(Y_test, y_pred)\n"
   ]
  },
  {
   "cell_type": "code",
   "execution_count": 17,
   "metadata": {},
   "outputs": [
    {
     "name": "stdout",
     "output_type": "stream",
     "text": [
      "('predicted', array([3]))\n"
     ]
    }
   ],
   "source": [
    "#Quality check\n",
    "\n",
    "print(\"predicted\",c.predict(data_ordinal.loc[1937,].drop(\"imdb_score2\")))\n"
   ]
  },
  {
   "cell_type": "markdown",
   "metadata": {},
   "source": [
    "# Decision Tree"
   ]
  },
  {
   "cell_type": "code",
   "execution_count": 18,
   "metadata": {},
   "outputs": [
    {
     "name": "stderr",
     "output_type": "stream",
     "text": [
      "C:\\Users\\Pavan\\Anaconda2\\lib\\site-packages\\sklearn\\cross_validation.py:41: DeprecationWarning: This module was deprecated in version 0.18 in favor of the model_selection module into which all the refactored classes and functions are moved. Also note that the interface of the new CV iterators are different from that of this module. This module will be removed in 0.20.\n",
      "  \"This module will be removed in 0.20.\", DeprecationWarning)\n"
     ]
    }
   ],
   "source": [
    "import numpy as np\n",
    "import pandas as pd\n",
    "from sklearn.metrics import confusion_matrix\n",
    "from sklearn.cross_validation import train_test_split\n",
    "from sklearn.tree import DecisionTreeClassifier\n",
    "from sklearn.metrics import accuracy_score\n",
    "from sklearn.metrics import classification_report"
   ]
  },
  {
   "cell_type": "code",
   "execution_count": 19,
   "metadata": {
    "collapsed": true
   },
   "outputs": [],
   "source": [
    "#Code to read the data\n",
    "data = pd.read_csv('C:\\\\Users\\\\Pavan\\\\Desktop\\\\rang\\\\movie_rating_prediction-master\\\\movie_metadata.csv', sep=',',header=0,encoding='latin-1')\n",
    "data[\"genres_count\"]=data.genres.str.split('|', 0).apply(lambda x: len(x))\n",
    "data[\"plotkeyword_1\"],data[\"plotkeyword_others\"]=data.plot_keywords.str.split('|', 1).str\n",
    "data[\"title_num_words\"]=data.movie_title.str.split(' ', 0).apply(lambda x: len(x))\n",
    "data[\"title_first_alpha_numeric\"]=pd.DataFrame(data.movie_title.str.split(' ',1).tolist(),columns = ['first','other'])[\"first\"].str[0]\n",
    "#data.loc[:,[\"movie_title\",\"genres\",\"plot_keywords\",\"genres_count\",\"plotkeywords_count\",\"plotkeyword_1\",\"movie_title_word_length\",\"movie_first_alpha_numeric\"]]\n",
    "data[\"imdb_score2\"]=pd.cut(data['imdb_score'],[0,5.8,6.6,7.2,10],labels=[0,1,2,3]).astype(\"object\")\n",
    "data=data.dropna(axis=0, how='any')\n",
    "data=data.drop(\"imdb_score\",1)\n",
    "data[\"imdb_score2\"]=data.imdb_score2.astype(\"int64\")"
   ]
  },
  {
   "cell_type": "code",
   "execution_count": 20,
   "metadata": {},
   "outputs": [
    {
     "name": "stdout",
     "output_type": "stream",
     "text": [
      "data[\"num_critic_for_reviews\"]=pd.cut(data[\"num_critic_for_reviews\"],[0, 77.0, 139.0, 224.0, 813.0],labels=[1, 2, 3, 4],include_lowest=True)\n",
      "data[\"duration\"]=pd.cut(data[\"duration\"],[0, 96.0, 106.0, 120.0, 330.0],labels=[1, 2, 3, 4],include_lowest=True)\n",
      "data[\"director_facebook_likes\"]=pd.cut(data[\"director_facebook_likes\"],[0, 11.0, 64.0, 236.5, 23000.0],labels=[1, 2, 3, 4],include_lowest=True)\n",
      "data[\"actor_3_facebook_likes\"]=pd.cut(data[\"actor_3_facebook_likes\"],[0, 195.0, 436.0, 691.0, 23000.0],labels=[1, 2, 3, 4],include_lowest=True)\n",
      "data[\"actor_1_facebook_likes\"]=pd.cut(data[\"actor_1_facebook_likes\"],[0, 746.0, 1000.0, 13000.0, 640000.0],labels=[1, 2, 3, 4],include_lowest=True)\n",
      "data[\"gross\"]=pd.cut(data[\"gross\"],[0, 8325391.5, 30105968.0, 67005855.5, 760505847.0],labels=[1, 2, 3, 4],include_lowest=True)\n",
      "data[\"num_voted_users\"]=pd.cut(data[\"num_voted_users\"],[0, 19712.0, 54077.0, 128688.0, 1689764.0],labels=[1, 2, 3, 4],include_lowest=True)\n",
      "data[\"cast_total_facebook_likes\"]=pd.cut(data[\"cast_total_facebook_likes\"],[0, 1934.0, 4073.0, 16258.0, 656730.0],labels=[1, 2, 3, 4],include_lowest=True)\n",
      "data[\"facenumber_in_poster\"]=pd.cut(data[\"facenumber_in_poster\"],[0, 1.0, 2.0, 43.0],labels=[1, 2, 3],include_lowest=True)\n",
      "data[\"num_user_for_reviews\"]=pd.cut(data[\"num_user_for_reviews\"],[0, 110.0, 210.0, 399.5, 5060.0],labels=[1, 2, 3, 4],include_lowest=True)\n",
      "data[\"budget\"]=pd.cut(data[\"budget\"],[0, 10000000.0, 25000000.0, 50000000.0, 12215500000.0],labels=[1, 2, 3, 4],include_lowest=True)\n",
      "data[\"title_year\"]=pd.cut(data[\"title_year\"],[0, 1999.0, 2004.0, 2010.0, 2016.0],labels=[1, 2, 3, 4],include_lowest=True)\n",
      "data[\"actor_2_facebook_likes\"]=pd.cut(data[\"actor_2_facebook_likes\"],[0, 387.0, 689.0, 976.5, 137000.0],labels=[1, 2, 3, 4],include_lowest=True)\n",
      "data[\"aspect_ratio\"]=pd.cut(data[\"aspect_ratio\"],[0, 1.85, 2.35, 2.76],labels=[1, 2, 3],include_lowest=True)\n",
      "data[\"movie_facebook_likes\"]=pd.cut(data[\"movie_facebook_likes\"],[0, 227.0, 11000.0, 349000.0],labels=[1, 2, 3],include_lowest=True)\n",
      "data[\"genres_count\"]=pd.cut(data[\"genres_count\"],[0, 2.0, 3.0, 4.0, 8.0],labels=[1, 2, 3, 4],include_lowest=True)\n",
      "data[\"title_num_words\"]=pd.cut(data[\"title_num_words\"],[0, 2.0, 3.0, 12.0],labels=[1, 2, 3],include_lowest=True)\n",
      "data[\"imdb_score2\"]=pd.cut(data[\"imdb_score2\"],[0, 1.0, 2.0, 3.0],labels=[1, 2, 3],include_lowest=True)\n"
     ]
    }
   ],
   "source": [
    "for column in data.columns:\n",
    "    if(data[column].dtypes!=\"object\"):\n",
    "             temp_values=[]\n",
    "             temp1=pd.qcut(data[column], 4,duplicates='drop').cat.categories.right.values.tolist()\n",
    "             temp1.insert(0,0)\n",
    "             \n",
    "             temp2=(range(1,(len(temp1)),1))\n",
    "             #print(len(temp1))\n",
    "             print(\"\"\"data[\"%s\"]=pd.cut(data[\"%s\"],%s,labels=%s,include_lowest=True)\"\"\" %(column,column,temp1,temp2) )\n"
   ]
  },
  {
   "cell_type": "code",
   "execution_count": 21,
   "metadata": {
    "collapsed": true
   },
   "outputs": [],
   "source": [
    "data[\"num_critic_for_reviews\"]=pd.cut(data[\"num_critic_for_reviews\"],[0, 50.0, 110.0, 195.0, 813.0],labels=[1, 2, 3, 4],include_lowest=True)\n",
    "data[\"duration\"]=pd.cut(data[\"duration\"],[0, 93.0, 103.0, 118.0, 511.0],labels=[1, 2, 3, 4],include_lowest=True)\n",
    "data[\"director_facebook_likes\"]=pd.cut(data[\"director_facebook_likes\"],[0, 7.0, 49.0, 194.5, 23000.0],labels=[1, 2, 3, 4],include_lowest=True)\n",
    "data[\"actor_3_facebook_likes\"]=pd.cut(data[\"actor_3_facebook_likes\"],[0, 133.0, 371.5, 636.0, 23000.0],labels=[1, 2, 3, 4],include_lowest=True)\n",
    "data[\"actor_1_facebook_likes\"]=pd.cut(data[\"actor_1_facebook_likes\"],[0, 614.0, 988.0, 11000.0, 640000.0],labels=[1, 2, 3, 4],include_lowest=True)\n",
    "data[\"gross\"]=pd.cut(data[\"gross\"],[0, 5340987.5, 25517500.0, 62309437.5, 760505847.0],labels=[1, 2, 3, 4],include_lowest=True)\n",
    "data[\"num_voted_users\"]=pd.cut(data[\"num_voted_users\"],[0, 8593.5, 34359.0, 96309.0, 1689764.0],labels=[1, 2, 3, 4],include_lowest=True)\n",
    "data[\"cast_total_facebook_likes\"]=pd.cut(data[\"cast_total_facebook_likes\"],[0, 1411.0, 3090.0, 13756.5, 656730.0],labels=[1, 2, 3, 4],include_lowest=True)\n",
    "data[\"facenumber_in_poster\"]=pd.cut(data[\"facenumber_in_poster\"],[0, 1.0, 2.0, 43.0],labels=[1, 2, 3],include_lowest=True)\n",
    "data[\"num_user_for_reviews\"]=pd.cut(data[\"num_user_for_reviews\"],[0, 65.0, 156.0, 326.0, 5060.0],labels=[1, 2, 3, 4],include_lowest=True)\n",
    "data[\"budget\"]=pd.cut(data[\"budget\"],[0, 6000000.0, 20000000.0, 45000000.0, 12215500000.0],labels=[1, 2, 3, 4],include_lowest=True)\n",
    "data[\"title_year\"]=pd.cut(data[\"title_year\"],[0, 1999.0, 2005.0, 2011.0, 2016.0],labels=[1, 2, 3, 4],include_lowest=True)\n",
    "data[\"actor_2_facebook_likes\"]=pd.cut(data[\"actor_2_facebook_likes\"],[0, 281.0, 595.0, 918.0, 137000.0],labels=[1, 2, 3, 4],include_lowest=True)\n",
    "data[\"aspect_ratio\"]=pd.cut(data[\"aspect_ratio\"],[0, 1.85, 2.35, 16.0],labels=[1, 2, 3],include_lowest=True)\n",
    "data[\"movie_facebook_likes\"]=pd.cut(data[\"movie_facebook_likes\"],[0, 166.0, 3000.0, 349000.0],labels=[1, 2, 3],include_lowest=True)\n",
    "data[\"genres_count\"]=pd.cut(data[\"genres_count\"],[0, 2.0, 3.0, 4.0, 8.0],labels=[1, 2, 3, 4],include_lowest=True)\n",
    "data[\"title_num_words\"]=pd.cut(data[\"title_num_words\"],[0, 2.0, 4.0, 20.0],labels=[1, 2, 3],include_lowest=True)"
   ]
  },
  {
   "cell_type": "code",
   "execution_count": 22,
   "metadata": {
    "collapsed": true
   },
   "outputs": [],
   "source": [
    "data=data.drop(\"actor_1_facebook_likes\",1)\n",
    "data=data.drop(\"actor_2_facebook_likes\",1)\n",
    "data=data.drop(\"actor_3_facebook_likes\",1)\n",
    "data=data.drop(\"director_name\",1)\n",
    "data=data.drop(\"actor_1_name\",1)\n",
    "data=data.drop(\"actor_2_name\",1)\n",
    "data=data.drop(\"actor_3_name\",1)\n",
    "data=data.drop(\"genres\",1)\n",
    "data=data.drop(\"movie_title\",1)\n",
    "data=data.drop(\"plot_keywords\",1)\n",
    "data=data.drop(\"plotkeyword_others\",1)\n",
    "data=data.drop(\"movie_imdb_link\",1)\n",
    "data=data.drop(\"country\",1)\n",
    "data=data.drop(\"num_critic_for_reviews\",1)\n",
    "data=data.drop(\"num_voted_users\",1)\n",
    "data=data.drop(\"genres_count\",1)\n",
    "data=data.drop(\"title_num_words\",1)\n",
    "data=data.drop(\"aspect_ratio\",1)\n",
    "data=data.drop(\"budget\",1)\n",
    "data=data.drop(\"facenumber_in_poster\",1)\n",
    "data=data.drop(\"cast_total_facebook_likes\",1)\n",
    "#data.columns\n"
   ]
  },
  {
   "cell_type": "code",
   "execution_count": 23,
   "metadata": {
    "collapsed": true
   },
   "outputs": [],
   "source": [
    "data=data.apply(lambda x : pd.factorize(x,na_sentinel=0)[0])\n",
    "data_dtree=data.copy()\n",
    "Y=data.pop(\"imdb_score2\")\n",
    "\n",
    "X=data\n",
    "#X=data.loc[:,[\"duration\",\"director_facebook_likes\",\"num_critic_for_reviews\",\"num_voted_users\"]]"
   ]
  },
  {
   "cell_type": "code",
   "execution_count": 24,
   "metadata": {},
   "outputs": [
    {
     "name": "stdout",
     "output_type": "stream",
     "text": [
      "Predicted values:\n",
      "[2 0 2 ..., 2 2 2]\n",
      "Confusion Matrix: \n",
      "[[138  57  38  17]\n",
      " [ 79  81  90  26]\n",
      " [ 51  83 141  52]\n",
      " [ 25  60  94  93]]\n",
      "('Accuracy : ', 40.266666666666666)\n",
      "             precision    recall  f1-score   support\n",
      "\n",
      "          0       0.47      0.55      0.51       250\n",
      "          1       0.29      0.29      0.29       276\n",
      "          2       0.39      0.43      0.41       327\n",
      "          3       0.49      0.34      0.40       272\n",
      "\n",
      "avg / total       0.41      0.40      0.40      1125\n",
      "\n"
     ]
    }
   ],
   "source": [
    "X_train, X_test, y_train, y_test = train_test_split(X, Y, test_size = 0.3, random_state = 223)\n",
    "\n",
    "# Creating the classifier object \n",
    "clf_gini = DecisionTreeClassifier(criterion = \"gini\",random_state = 100,max_depth=12, min_samples_leaf=5)\n",
    "\n",
    "clf_gini.fit(X_train, y_train)\n",
    "\n",
    "\n",
    "\n",
    "# Predicton on test with giniIndex\n",
    "y_pred = clf_gini.predict(X_test)\n",
    "print(\"Predicted values:\")\n",
    "print(y_pred)\n",
    "\n",
    "print(\"Confusion Matrix: \")\n",
    "print (confusion_matrix(y_test, y_pred))\n",
    "    \n",
    "print (\"Accuracy : \",accuracy_score(y_test,y_pred)*100)\n",
    " \n",
    "print classification_report(y_test, y_pred)\n"
   ]
  },
  {
   "cell_type": "code",
   "execution_count": 25,
   "metadata": {},
   "outputs": [
    {
     "name": "stdout",
     "output_type": "stream",
     "text": [
      "('predicted', array([0, 3], dtype=int64))\n"
     ]
    }
   ],
   "source": [
    "#Quality check\n",
    "\n",
    "print(\"predicted\",clf_gini.predict(data_dtree.loc[1937:1938,].drop(\"imdb_score2\",1)))\n"
   ]
  },
  {
   "cell_type": "code",
   "execution_count": 26,
   "metadata": {
    "collapsed": true
   },
   "outputs": [],
   "source": [
    "from sklearn import tree\n",
    "\n",
    "tree.export_graphviz(clf_gini,out_file='tree.dot')\n",
    "#data.iloc[:,12]"
   ]
  },
  {
   "cell_type": "markdown",
   "metadata": {},
   "source": [
    "# Naive Bayes"
   ]
  },
  {
   "cell_type": "code",
   "execution_count": 27,
   "metadata": {
    "collapsed": true
   },
   "outputs": [],
   "source": [
    "import pandas as pd\n",
    "import numpy as np\n",
    "import matplotlib.pyplot as plt\n",
    "import time\n",
    "from sklearn.model_selection import train_test_split\n",
    "from sklearn.naive_bayes import GaussianNB, BernoulliNB, MultinomialNB\n",
    "from sklearn.metrics import accuracy_score\n",
    "from sklearn.metrics import classification_report\n",
    "from sklearn.metrics import confusion_matrix"
   ]
  },
  {
   "cell_type": "code",
   "execution_count": 28,
   "metadata": {
    "collapsed": true
   },
   "outputs": [],
   "source": [
    "#Code to read the data\n",
    "data = pd.read_csv('C:\\\\Users\\\\Pavan\\\\Desktop\\\\rang\\\\movie_rating_prediction-master\\\\movie_metadata.csv', sep=',',header=0,encoding='latin-1')\n",
    "data[\"genres_count\"]=data.genres.str.split('|', 0).apply(lambda x: len(x))\n",
    "data[\"plotkeyword_1\"],data[\"plotkeyword_others\"]=data.plot_keywords.str.split('|', 1).str\n",
    "data[\"title_num_words\"]=data.movie_title.str.split(' ', 0).apply(lambda x: len(x))\n",
    "data[\"title_first_alpha_numeric\"]=pd.DataFrame(data.movie_title.str.split(' ',1).tolist(),columns = ['first','other'])[\"first\"].str[0]\n",
    "#data.loc[:,[\"movie_title\",\"genres\",\"plot_keywords\",\"genres_count\",\"plotkeywords_count\",\"plotkeyword_1\",\"movie_title_word_length\",\"movie_first_alpha_numeric\"]]\n",
    "data[\"imdb_score2\"]=pd.cut(data['imdb_score'],[0,5.8,6.6,7.2,10],labels=[0,1,2,3]).astype(\"object\")\n",
    "data=data.dropna(axis=0, how='any')\n",
    "data=data.drop(\"imdb_score\",1)\n",
    "data[\"imdb_score2\"]=data.imdb_score2.astype(\"int64\")"
   ]
  },
  {
   "cell_type": "code",
   "execution_count": 29,
   "metadata": {
    "collapsed": true
   },
   "outputs": [],
   "source": [
    "data[\"num_critic_for_reviews\"]=pd.cut(data[\"num_critic_for_reviews\"],[0, 50.0, 110.0, 195.0, 813.0],labels=[1, 2, 3, 4],include_lowest=True)\n",
    "data[\"duration\"]=pd.cut(data[\"duration\"],[0, 93.0, 103.0, 118.0, 511.0],labels=[1, 2, 3, 4],include_lowest=True)\n",
    "data[\"director_facebook_likes\"]=pd.cut(data[\"director_facebook_likes\"],[0, 7.0, 49.0, 194.5, 23000.0],labels=[1, 2, 3, 4],include_lowest=True)\n",
    "data[\"actor_3_facebook_likes\"]=pd.cut(data[\"actor_3_facebook_likes\"],[0, 133.0, 371.5, 636.0, 23000.0],labels=[1, 2, 3, 4],include_lowest=True)\n",
    "data[\"actor_1_facebook_likes\"]=pd.cut(data[\"actor_1_facebook_likes\"],[0, 614.0, 988.0, 11000.0, 640000.0],labels=[1, 2, 3, 4],include_lowest=True)\n",
    "data[\"gross\"]=pd.cut(data[\"gross\"],[0, 5340987.5, 25517500.0, 62309437.5, 760505847.0],labels=[1, 2, 3, 4],include_lowest=True)\n",
    "data[\"num_voted_users\"]=pd.cut(data[\"num_voted_users\"],[0, 8593.5, 34359.0, 96309.0, 1689764.0],labels=[1, 2, 3, 4],include_lowest=True)\n",
    "data[\"cast_total_facebook_likes\"]=pd.cut(data[\"cast_total_facebook_likes\"],[0, 1411.0, 3090.0, 13756.5, 656730.0],labels=[1, 2, 3, 4],include_lowest=True)\n",
    "data[\"facenumber_in_poster\"]=pd.cut(data[\"facenumber_in_poster\"],[0, 1.0, 2.0, 43.0],labels=[1, 2, 3],include_lowest=True)\n",
    "data[\"num_user_for_reviews\"]=pd.cut(data[\"num_user_for_reviews\"],[0, 65.0, 156.0, 326.0, 5060.0],labels=[1, 2, 3, 4],include_lowest=True)\n",
    "data[\"budget\"]=pd.cut(data[\"budget\"],[0, 6000000.0, 20000000.0, 45000000.0, 12215500000.0],labels=[1, 2, 3, 4],include_lowest=True)\n",
    "data[\"title_year\"]=pd.cut(data[\"title_year\"],[0, 1999.0, 2005.0, 2011.0, 2016.0],labels=[1, 2, 3, 4],include_lowest=True)\n",
    "data[\"actor_2_facebook_likes\"]=pd.cut(data[\"actor_2_facebook_likes\"],[0, 281.0, 595.0, 918.0, 137000.0],labels=[1, 2, 3, 4],include_lowest=True)\n",
    "data[\"aspect_ratio\"]=pd.cut(data[\"aspect_ratio\"],[0, 1.85, 2.35, 16.0],labels=[1, 2, 3],include_lowest=True)\n",
    "data[\"movie_facebook_likes\"]=pd.cut(data[\"movie_facebook_likes\"],[0, 166.0, 3000.0, 349000.0],labels=[1, 2, 3],include_lowest=True)\n",
    "data[\"genres_count\"]=pd.cut(data[\"genres_count\"],[0, 2.0, 3.0, 4.0, 8.0],labels=[1, 2, 3, 4],include_lowest=True)\n",
    "data[\"title_num_words\"]=pd.cut(data[\"title_num_words\"],[0, 2.0, 4.0, 20.0],labels=[1, 2, 3],include_lowest=True)"
   ]
  },
  {
   "cell_type": "code",
   "execution_count": 30,
   "metadata": {
    "collapsed": true
   },
   "outputs": [],
   "source": [
    "for col in data.columns:\n",
    "    if(data[col].dtypes==\"object\"):\n",
    "             data[col]=pd.factorize(data[col],na_sentinel=0)[0]"
   ]
  },
  {
   "cell_type": "code",
   "execution_count": 31,
   "metadata": {
    "collapsed": true
   },
   "outputs": [],
   "source": [
    "data_NB=data.copy()\n",
    "X_train, X_test = train_test_split(data, test_size=0.3, random_state=223)"
   ]
  },
  {
   "cell_type": "code",
   "execution_count": 32,
   "metadata": {
    "collapsed": true
   },
   "outputs": [],
   "source": [
    "gnb = GaussianNB()\n",
    "Y_train=X_train.pop(\"imdb_score2\")\n",
    "Y_test=X_test.pop(\"imdb_score2\")"
   ]
  },
  {
   "cell_type": "code",
   "execution_count": 33,
   "metadata": {},
   "outputs": [
    {
     "data": {
      "text/plain": [
       "Index([                    u'color',             u'director_name',\n",
       "          u'num_critic_for_reviews',                  u'duration',\n",
       "         u'director_facebook_likes',    u'actor_3_facebook_likes',\n",
       "                    u'actor_2_name',    u'actor_1_facebook_likes',\n",
       "                           u'gross',                    u'genres',\n",
       "                    u'actor_1_name',               u'movie_title',\n",
       "                 u'num_voted_users', u'cast_total_facebook_likes',\n",
       "                    u'actor_3_name',      u'facenumber_in_poster',\n",
       "                   u'plot_keywords',           u'movie_imdb_link',\n",
       "            u'num_user_for_reviews',                  u'language',\n",
       "                         u'country',            u'content_rating',\n",
       "                          u'budget',                u'title_year',\n",
       "          u'actor_2_facebook_likes',              u'aspect_ratio',\n",
       "            u'movie_facebook_likes',              u'genres_count',\n",
       "                   u'plotkeyword_1',        u'plotkeyword_others',\n",
       "                 u'title_num_words', u'title_first_alpha_numeric'],\n",
       "      dtype='object')"
      ]
     },
     "execution_count": 33,
     "metadata": {},
     "output_type": "execute_result"
    }
   ],
   "source": [
    "X_train.columns"
   ]
  },
  {
   "cell_type": "code",
   "execution_count": 34,
   "metadata": {},
   "outputs": [
    {
     "name": "stdout",
     "output_type": "stream",
     "text": [
      "Confusion Matrix: \n",
      "[[231  31   4   6]\n",
      " [239  66   8  14]\n",
      " [156  67  18  35]\n",
      " [ 87  57  23  83]]\n",
      "('Accuracy : ', 35.37777777777778)\n",
      "             precision    recall  f1-score   support\n",
      "\n",
      "          0       0.32      0.85      0.47       272\n",
      "          1       0.30      0.20      0.24       327\n",
      "          2       0.34      0.07      0.11       276\n",
      "          3       0.60      0.33      0.43       250\n",
      "\n",
      "avg / total       0.38      0.35      0.31      1125\n",
      "\n"
     ]
    }
   ],
   "source": [
    "gnb.fit(\n",
    "    X_train.values,\n",
    "    Y_train)\n",
    "y_pred = gnb.predict(X_test)\n",
    "print(\"Confusion Matrix: \")\n",
    "print (confusion_matrix(Y_test, y_pred))\n",
    "    \n",
    "print (\"Accuracy : \",accuracy_score(Y_test,y_pred)*100)\n",
    " \n",
    "print classification_report(Y_test, y_pred)\n"
   ]
  },
  {
   "cell_type": "code",
   "execution_count": 35,
   "metadata": {},
   "outputs": [
    {
     "name": "stdout",
     "output_type": "stream",
     "text": [
      "('predicted', array([3, 0], dtype=int64))\n"
     ]
    },
    {
     "data": {
      "text/plain": [
       "color                                                                    Color\n",
       "director_name                                                   Frank Darabont\n",
       "num_critic_for_reviews                                                     199\n",
       "duration                                                                   142\n",
       "director_facebook_likes                                                      0\n",
       "actor_3_facebook_likes                                                     461\n",
       "actor_2_name                                                    Jeffrey DeMunn\n",
       "actor_1_facebook_likes                                                   11000\n",
       "gross                                                              2.83415e+07\n",
       "genres                                                             Crime|Drama\n",
       "actor_1_name                                                    Morgan Freeman\n",
       "movie_title                                         The Shawshank RedemptionÂ \n",
       "num_voted_users                                                        1689764\n",
       "cast_total_facebook_likes                                                13495\n",
       "actor_3_name                                                        Bob Gunton\n",
       "facenumber_in_poster                                                         0\n",
       "plot_keywords                escape from prison|first person narration|pris...\n",
       "movie_imdb_link              http://www.imdb.com/title/tt0111161/?ref_=fn_t...\n",
       "num_user_for_reviews                                                      4144\n",
       "language                                                               English\n",
       "country                                                                    USA\n",
       "content_rating                                                               R\n",
       "budget                                                                 2.5e+07\n",
       "title_year                                                                1994\n",
       "actor_2_facebook_likes                                                     745\n",
       "imdb_score                                                                 9.3\n",
       "aspect_ratio                                                              1.85\n",
       "movie_facebook_likes                                                    108000\n",
       "Name: 1937, dtype: object"
      ]
     },
     "execution_count": 35,
     "metadata": {},
     "output_type": "execute_result"
    }
   ],
   "source": [
    "#Quality check\n",
    "\n",
    "print(\"predicted\",gnb.predict(data_NB.loc[1937:1938,].drop(\"imdb_score2\",1)))\n",
    "data = pd.read_csv('C:\\\\Users\\\\Pavan\\\\Desktop\\\\rang\\\\movie_rating_prediction-master\\\\movie_metadata.csv', sep=',',header=0,encoding='latin-1')\n",
    "data.loc[1937,]"
   ]
  }
 ],
 "metadata": {
  "kernelspec": {
   "display_name": "Python 2",
   "language": "python",
   "name": "python2"
  },
  "language_info": {
   "codemirror_mode": {
    "name": "ipython",
    "version": 2
   },
   "file_extension": ".py",
   "mimetype": "text/x-python",
   "name": "python",
   "nbconvert_exporter": "python",
   "pygments_lexer": "ipython2",
   "version": "2.7.14"
  }
 },
 "nbformat": 4,
 "nbformat_minor": 2
}
